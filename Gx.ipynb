{
 "cells": [
  {
   "cell_type": "markdown",
   "id": "7bfce0de-67f2-44cc-a870-6e4d0f01caea",
   "metadata": {
    "microsoft": {
     "language": "python",
     "language_group": "synapse_pyspark"
    },
    "nteract": {
     "transient": {
      "deleting": false
     }
    }
   },
   "source": [
    "PoC - Data Quality in Fabric. \n",
    "\n",
    "This Notebook depends on the Environment _Libraries_, created beforehand and linked with the dropdown menu at the top. It allows the installation of libraries directly in the session and avoids installing it with _pip install_ everytime the notebook runs.   \n",
    "\n",
    "Getting Libraries From Great Expectations "
   ]
  },
  {
   "cell_type": "code",
   "execution_count": null,
   "id": "882afcd1-1b59-4791-9314-8665dfb40f55",
   "metadata": {
    "microsoft": {
     "language": "python",
     "language_group": "synapse_pyspark"
    }
   },
   "outputs": [],
   "source": [
    "import great_expectations as gx\n",
    "from great_expectations import expectations as gxe"
   ]
  },
  {
   "cell_type": "markdown",
   "id": "7738c22d-b37c-4a1b-b284-83d1c231cd95",
   "metadata": {
    "microsoft": {
     "language": "python",
     "language_group": "synapse_pyspark"
    },
    "nteract": {
     "transient": {
      "deleting": false
     }
    }
   },
   "source": [
    "Creating a Context : default storage location for metadata of the expectations, data sources, validators ... "
   ]
  },
  {
   "cell_type": "code",
   "execution_count": null,
   "id": "54d779e1-f20e-41cf-9b32-f9aca50ced00",
   "metadata": {
    "microsoft": {
     "language": "python",
     "language_group": "synapse_pyspark"
    }
   },
   "outputs": [],
   "source": [
    "context = gx.get_context()\n",
    "\n",
    "print(type(context).__name__)\n",
    "\n",
    "#context = gx.get_context(mode=\\\"file\")\n",
    "#context = gx.get_context(mode=\"file\", project_root_dir=\"./new_context_folder\")"
   ]
  },
  {
   "cell_type": "markdown",
   "id": "cfa3b761-f96d-4696-b243-30113b9416dd",
   "metadata": {
    "microsoft": {
     "language": "python",
     "language_group": "synapse_pyspark"
    },
    "nteract": {
     "transient": {
      "deleting": false
     }
    }
   },
   "source": [
    "Datasource is used to define and connect to data"
   ]
  },
  {
   "cell_type": "code",
   "execution_count": 4,
   "id": "dcf725f7-1654-448d-a1fa-7af915d80009",
   "metadata": {
    "microsoft": {
     "language": "python",
     "language_group": "synapse_pyspark"
    }
   },
   "outputs": [
    {
     "data": {
      "application/vnd.livy.statement-meta+json": {
       "execution_finish_time": "2025-02-14T16:08:13.0075113Z",
       "execution_start_time": "2025-02-14T16:08:12.6720355Z",
       "livy_statement_state": "available",
       "normalized_state": "finished",
       "parent_msg_id": "ca3424ed-4247-43f7-bfe2-8c9013f75801",
       "queued_time": "2025-02-14T16:07:43.5537466Z",
       "session_id": "7e382d05-b693-485c-b118-5f440ce87150",
       "session_start_time": null,
       "spark_pool": null,
       "state": "finished",
       "statement_id": 7,
       "statement_ids": [
        7
       ]
      },
      "text/plain": [
       "StatementMeta(, 7e382d05-b693-485c-b118-5f440ce87150, 7, Finished, Available, Finished)"
      ]
     },
     "metadata": {},
     "output_type": "display_data"
    }
   ],
   "source": [
    "datasource_name = \"spark_datasource\"\n",
    "\n",
    "#data_source = context.data_sources.add_pandas(name=data_source_name)\n",
    "data_source = context.data_sources.add_spark(name=datasource_name)\n",
    "\n",
    "# Once created, get the data source if necessary. \n",
    "#data_source = context.data_sources.get(datasource_name)\n",
    "\n",
    "data_asset_name = \"my_dataframe_data_asset\"\n"
   ]
  },
  {
   "cell_type": "markdown",
   "id": "1d16784f-c823-4256-b6d2-026a7f58ca59",
   "metadata": {
    "microsoft": {
     "language": "python",
     "language_group": "synapse_pyspark"
    },
    "nteract": {
     "transient": {
      "deleting": false
     }
    }
   },
   "source": [
    "Data Assets regroups the validation results. It should group logical content together (Orders across all steps of integration for instance)"
   ]
  },
  {
   "cell_type": "code",
   "execution_count": 5,
   "id": "77592f54-a271-4e9b-a100-66433391b13a",
   "metadata": {
    "microsoft": {
     "language": "python",
     "language_group": "synapse_pyspark"
    }
   },
   "outputs": [
    {
     "data": {
      "application/vnd.livy.statement-meta+json": {
       "execution_finish_time": "2025-02-14T16:08:13.5843149Z",
       "execution_start_time": "2025-02-14T16:08:13.1802818Z",
       "livy_statement_state": "available",
       "normalized_state": "finished",
       "parent_msg_id": "cc9958ff-edd0-41fb-8ff2-93d262983ab5",
       "queued_time": "2025-02-14T16:07:44.0819038Z",
       "session_id": "7e382d05-b693-485c-b118-5f440ce87150",
       "session_start_time": null,
       "spark_pool": null,
       "state": "finished",
       "statement_id": 8,
       "statement_ids": [
        8
       ]
      },
      "text/plain": [
       "StatementMeta(, 7e382d05-b693-485c-b118-5f440ce87150, 8, Finished, Available, Finished)"
      ]
     },
     "metadata": {},
     "output_type": "display_data"
    }
   ],
   "source": [
    "data_asset_name = \"my_dataframe_data_asset\"\n",
    "data_asset = data_source.add_dataframe_asset(name=data_asset_name)"
   ]
  },
  {
   "cell_type": "markdown",
   "id": "0eae349b-9f2c-4feb-9f16-ddc5ddb969c2",
   "metadata": {
    "microsoft": {
     "language": "python",
     "language_group": "synapse_pyspark"
    },
    "nteract": {
     "transient": {
      "deleting": false
     }
    }
   },
   "source": [
    "Batch definitions defines how the data should be retrieved. "
   ]
  },
  {
   "cell_type": "code",
   "execution_count": 6,
   "id": "728690db-0861-4db3-a487-095c01384f19",
   "metadata": {
    "microsoft": {
     "language": "python",
     "language_group": "synapse_pyspark"
    }
   },
   "outputs": [
    {
     "data": {
      "application/vnd.livy.statement-meta+json": {
       "execution_finish_time": "2025-02-14T16:08:14.134285Z",
       "execution_start_time": "2025-02-14T16:08:13.7710642Z",
       "livy_statement_state": "available",
       "normalized_state": "finished",
       "parent_msg_id": "d3dc5a30-6d29-4fb6-a0ff-afe2583e7ec6",
       "queued_time": "2025-02-14T16:07:44.6651846Z",
       "session_id": "7e382d05-b693-485c-b118-5f440ce87150",
       "session_start_time": null,
       "spark_pool": null,
       "state": "finished",
       "statement_id": 9,
       "statement_ids": [
        9
       ]
      },
      "text/plain": [
       "StatementMeta(, 7e382d05-b693-485c-b118-5f440ce87150, 9, Finished, Available, Finished)"
      ]
     },
     "metadata": {},
     "output_type": "display_data"
    }
   ],
   "source": [
    "batch_definition_name = \"my_batch_definition\"\n",
    "batch_definition = data_asset.add_batch_definition_whole_dataframe(batch_definition_name)"
   ]
  },
  {
   "cell_type": "code",
   "execution_count": null,
   "id": "2b1da4f5-cd02-43cd-8074-6eaa5676b433",
   "metadata": {
    "microsoft": {
     "language": "python",
     "language_group": "synapse_pyspark"
    }
   },
   "outputs": [
    {
     "data": {
      "application/vnd.livy.statement-meta+json": {
       "execution_finish_time": "2025-02-14T16:08:27.3425131Z",
       "execution_start_time": "2025-02-14T16:08:14.3081272Z",
       "livy_statement_state": "available",
       "normalized_state": "finished",
       "parent_msg_id": "c2831b5c-ebbd-4b81-9e5e-1e122b606dde",
       "queued_time": "2025-02-14T16:07:45.5146379Z",
       "session_id": "7e382d05-b693-485c-b118-5f440ce87150",
       "session_start_time": null,
       "spark_pool": null,
       "state": "finished",
       "statement_id": 10,
       "statement_ids": [
        10
       ]
      },
      "text/plain": [
       "StatementMeta(, 7e382d05-b693-485c-b118-5f440ce87150, 10, Finished, Available, Finished)"
      ]
     },
     "metadata": {},
     "output_type": "display_data"
    }
   ],
   "source": [
    "FactsDf = spark.sql(\"SELECT * FROM Facts LIMIT 1000\")\n",
    "batch_parameters = {\"dataframe\": FactsDf}"
   ]
  },
  {
   "cell_type": "code",
   "execution_count": 8,
   "id": "4ffd461e-c8fb-430c-a329-7e995f8fbcf7",
   "metadata": {
    "microsoft": {
     "language": "python",
     "language_group": "synapse_pyspark"
    }
   },
   "outputs": [
    {
     "data": {
      "application/vnd.livy.statement-meta+json": {
       "execution_finish_time": "2025-02-14T16:08:27.8741504Z",
       "execution_start_time": "2025-02-14T16:08:27.5219571Z",
       "livy_statement_state": "available",
       "normalized_state": "finished",
       "parent_msg_id": "d07cb802-a1ed-4a63-885c-65147a864949",
       "queued_time": "2025-02-14T16:07:46.1345956Z",
       "session_id": "7e382d05-b693-485c-b118-5f440ce87150",
       "session_start_time": null,
       "spark_pool": null,
       "state": "finished",
       "statement_id": 11,
       "statement_ids": [
        11
       ]
      },
      "text/plain": [
       "StatementMeta(, 7e382d05-b693-485c-b118-5f440ce87150, 11, Finished, Available, Finished)"
      ]
     },
     "metadata": {},
     "output_type": "display_data"
    }
   ],
   "source": [
    "batch_definition = (\n",
    "    context.data_sources.get(datasource_name)\n",
    "    .get_asset(data_asset_name)\n",
    "    .get_batch_definition(batch_definition_name)\n",
    ")"
   ]
  },
  {
   "cell_type": "markdown",
   "id": "2e6e1021-1cea-4daa-b4e7-5753d4cb02d5",
   "metadata": {
    "microsoft": {
     "language": "python",
     "language_group": "synapse_pyspark"
    },
    "nteract": {
     "transient": {
      "deleting": false
     }
    }
   },
   "source": [
    "Once the method of retrieval, the datasource configured, we need to define the list of expectations we have, to assess our data. \n",
    "\n",
    "List of expectations : https://greatexpectations.io/expectations/\n",
    "\n",
    "Here we test if the productId is null or not : "
   ]
  },
  {
   "cell_type": "code",
   "execution_count": null,
   "id": "34412b7a-b076-4f9e-bbaa-e554c6f2af0d",
   "metadata": {
    "microsoft": {
     "language": "python",
     "language_group": "synapse_pyspark"
    }
   },
   "outputs": [],
   "source": [
    "productId_notNull = gx.expectations.ExpectColumnValuesToNotBeNull(\n",
    "    column=\"productId\",\n",
    "    mostly=1 # defines from 0 to 1 the ratio of values to be not null to validate the expectation. \n",
    ")\n",
    "\n",
    "# Get the dataframe as a Batch\n",
    "batch = batch_definition.get_batch(batch_parameters=batch_parameters)\n",
    "\n",
    "validation_results = batch.validate(productId_notNull)\n",
    "print(validation_results)\n"
   ]
  },
  {
   "cell_type": "markdown",
   "id": "d7c91749-bc83-428a-b020-f9bec659f53d",
   "metadata": {
    "microsoft": {
     "language": "python",
     "language_group": "synapse_pyspark"
    },
    "nteract": {
     "transient": {
      "deleting": false
     }
    }
   },
   "source": [
    "Result is good as success == true. We only tested a single expectation, but we can setup a list of expectation called a **suite** : "
   ]
  },
  {
   "cell_type": "code",
   "execution_count": null,
   "id": "04c53bd1-2bd1-48f2-8f6b-fa079cafd1c6",
   "metadata": {
    "microsoft": {
     "language": "python",
     "language_group": "synapse_pyspark"
    }
   },
   "outputs": [
    {
     "data": {
      "application/vnd.livy.statement-meta+json": {
       "execution_finish_time": "2025-02-14T16:08:35.8808693Z",
       "execution_start_time": "2025-02-14T16:08:35.5109708Z",
       "livy_statement_state": "available",
       "normalized_state": "finished",
       "parent_msg_id": "a82ed586-9cbf-4994-a4a1-1b6b444ec1bc",
       "queued_time": "2025-02-14T16:07:47.1997205Z",
       "session_id": "7e382d05-b693-485c-b118-5f440ce87150",
       "session_start_time": null,
       "spark_pool": null,
       "state": "finished",
       "statement_id": 13,
       "statement_ids": [
        13
       ]
      },
      "text/plain": [
       "StatementMeta(, 7e382d05-b693-485c-b118-5f440ce87150, 13, Finished, Available, Finished)"
      ]
     },
     "metadata": {},
     "output_type": "display_data"
    }
   ],
   "source": [
    "suite_name = \"Facts_ExpectationsSuite\"\n",
    "suite = gx.ExpectationSuite(name=suite_name)\n",
    "suite = context.suites.add(suite)"
   ]
  },
  {
   "cell_type": "markdown",
   "id": "40d91dc4-029d-4c76-b09f-8afb86ce3437",
   "metadata": {
    "microsoft": {
     "language": "python",
     "language_group": "synapse_pyspark"
    },
    "nteract": {
     "transient": {
      "deleting": false
     }
    }
   },
   "source": [
    "We then add the expectations to the suite : "
   ]
  },
  {
   "cell_type": "code",
   "execution_count": null,
   "id": "c817508a-288f-4288-b910-a0a41fd1bfb3",
   "metadata": {
    "microsoft": {
     "language": "python",
     "language_group": "synapse_pyspark"
    }
   },
   "outputs": [],
   "source": [
    "productId_notNull = gx.expectations.ExpectColumnValuesToNotBeNull(\n",
    "    column=\"productId\",\n",
    "    mostly=1 # defines from 0 to 1 the ratio of values to be not null to validate the expectation. \n",
    ")\n",
    "\n",
    "suite.add_expectation(productId_notNull) # suite was already pre defined steps before \n",
    "\n",
    "billing_postal_code_notNull = gx.expectations.ExpectColumnValuesToNotBeNull(\n",
    "    column=\"billing_postal_code\",\n",
    "    mostly=1\n",
    ")\n",
    "\n",
    "suite.add_expectation(billing_postal_code_notNull)"
   ]
  },
  {
   "cell_type": "code",
   "execution_count": null,
   "id": "3187baa0-40c3-463c-812d-bb7a94187a1a",
   "metadata": {
    "microsoft": {
     "language": "python",
     "language_group": "synapse_pyspark"
    }
   },
   "outputs": [],
   "source": [
    "validation_results = batch.validate(suite)\n",
    "print(validation_results)"
   ]
  },
  {
   "cell_type": "markdown",
   "id": "bfc04db2-9dc7-4dab-8ba6-49bd844be699",
   "metadata": {
    "microsoft": {
     "language": "python",
     "language_group": "synapse_pyspark"
    },
    "nteract": {
     "transient": {
      "deleting": false
     }
    }
   },
   "source": [
    "Once the expectation is tested, we can assess the full table : we need to redefine the batch and validate it against the suite : "
   ]
  },
  {
   "cell_type": "code",
   "execution_count": null,
   "id": "c4e6febb-e754-431b-bc2c-6ccdc698ce3b",
   "metadata": {
    "microsoft": {
     "language": "python",
     "language_group": "synapse_pyspark"
    }
   },
   "outputs": [],
   "source": [
    "FactsDf = spark.sql(\"SELECT productId, billing_postal_code, user_contact_email FROM Facts\")\n",
    "batch_parameters = {\"dataframe\": FactsDf}\n",
    "\n",
    "user_contact_email_notEmpty = gx.expectations.ExpectColumnValueLengthsToBeBetween(\n",
    "    column=\"user_contact_email\",\n",
    "    min_value=1,\n",
    "    max_value=256\n",
    ")\n",
    "\n",
    "billing_postal_code_notEmpty = gx.expectations.ExpectColumnValueLengthsToBeBetween(\n",
    "    column=\"billing_postal_code\",\n",
    "    min_value=1,\n",
    "    max_value=10\n",
    ")\n",
    "\n",
    "suite.add_expectation(user_contact_email_notEmpty)\n",
    "suite.add_expectation(billing_postal_code_notEmpty)\n",
    "\n",
    "batch = batch_definition.get_batch(batch_parameters=batch_parameters)\n",
    "\n",
    "validation_results = batch.validate(suite)"
   ]
  },
  {
   "cell_type": "code",
   "execution_count": 18,
   "id": "f8c187e1-50c3-45ae-9e7a-b859bd5706b2",
   "metadata": {
    "microsoft": {
     "language": "python",
     "language_group": "synapse_pyspark"
    }
   },
   "outputs": [
    {
     "data": {
      "application/vnd.livy.statement-meta+json": {
       "execution_finish_time": "2025-02-14T16:09:30.648235Z",
       "execution_start_time": "2025-02-14T16:09:30.3002237Z",
       "livy_statement_state": "available",
       "normalized_state": "finished",
       "parent_msg_id": "7778fd1d-67e6-46fe-b79b-865878d0e611",
       "queued_time": "2025-02-14T16:09:29.9999374Z",
       "session_id": "7e382d05-b693-485c-b118-5f440ce87150",
       "session_start_time": null,
       "spark_pool": null,
       "state": "finished",
       "statement_id": 23,
       "statement_ids": [
        23
       ]
      },
      "text/plain": [
       "StatementMeta(, 7e382d05-b693-485c-b118-5f440ce87150, 23, Finished, Available, Finished)"
      ]
     },
     "metadata": {},
     "output_type": "display_data"
    }
   ],
   "source": [
    "import json\n",
    "import pandas as pd"
   ]
  },
  {
   "cell_type": "code",
   "execution_count": 19,
   "id": "f4fc4db5-9491-4016-866f-75470602d6ad",
   "metadata": {
    "microsoft": {
     "language": "python",
     "language_group": "synapse_pyspark"
    }
   },
   "outputs": [
    {
     "data": {
      "application/vnd.livy.statement-meta+json": {
       "execution_finish_time": "2025-02-14T16:09:39.355843Z",
       "execution_start_time": "2025-02-14T16:09:39.0249436Z",
       "livy_statement_state": "available",
       "normalized_state": "finished",
       "parent_msg_id": "3d9ca0d0-6b6c-434e-a7f3-26c9aeeed837",
       "queued_time": "2025-02-14T16:09:38.8376274Z",
       "session_id": "7e382d05-b693-485c-b118-5f440ce87150",
       "session_start_time": null,
       "spark_pool": null,
       "state": "finished",
       "statement_id": 24,
       "statement_ids": [
        24
       ]
      },
      "text/plain": [
       "StatementMeta(, 7e382d05-b693-485c-b118-5f440ce87150, 24, Finished, Available, Finished)"
      ]
     },
     "metadata": {},
     "output_type": "display_data"
    }
   ],
   "source": [
    "jsonResult = json.loads(str(validation_results))\n",
    "resultList = []"
   ]
  },
  {
   "cell_type": "code",
   "execution_count": 20,
   "id": "9ba28b99-c8a5-4a0b-adaf-caf2794c98f4",
   "metadata": {
    "microsoft": {
     "language": "python",
     "language_group": "synapse_pyspark"
    }
   },
   "outputs": [
    {
     "data": {
      "application/vnd.livy.statement-meta+json": {
       "execution_finish_time": "2025-02-14T16:09:41.7127061Z",
       "execution_start_time": "2025-02-14T16:09:41.3225213Z",
       "livy_statement_state": "available",
       "normalized_state": "finished",
       "parent_msg_id": "d00b6ec7-418c-4dfd-a9f8-cbfcd6502049",
       "queued_time": "2025-02-14T16:09:41.1503152Z",
       "session_id": "7e382d05-b693-485c-b118-5f440ce87150",
       "session_start_time": null,
       "spark_pool": null,
       "state": "finished",
       "statement_id": 25,
       "statement_ids": [
        25
       ]
      },
      "text/plain": [
       "StatementMeta(, 7e382d05-b693-485c-b118-5f440ce87150, 25, Finished, Available, Finished)"
      ]
     },
     "metadata": {},
     "output_type": "display_data"
    }
   ],
   "source": [
    "for result in jsonResult['results']:\n",
    "    success_status = result['success']\n",
    "    expectation = result['expectation_config']['type']\n",
    "    dataset_column = result['expectation_config']['kwargs']['column']\n",
    "    element_count = result['result']['element_count']\n",
    "    unexpected_percent = result['result']['unexpected_percent']\n",
    "    \n",
    "    resultList.append({\n",
    "        'success_status': success_status,\n",
    "        'expectation': expectation,\n",
    "        'dataset_column': dataset_column,\n",
    "        'element_count': element_count,\n",
    "        'unexpected_percent': unexpected_percent\n",
    "    })\n",
    "\n",
    "df = pd.DataFrame(resultList)"
   ]
  },
  {
   "cell_type": "code",
   "execution_count": null,
   "id": "435caf27-a769-4ae4-b963-0c0f9b3b3cd9",
   "metadata": {
    "microsoft": {
     "language": "python",
     "language_group": "synapse_pyspark"
    }
   },
   "outputs": [
    {
     "data": {
      "application/vnd.livy.statement-meta+json": {
       "execution_finish_time": "2025-02-14T16:08:50.0244892Z",
       "execution_start_time": null,
       "livy_statement_state": null,
       "normalized_state": "cancelled",
       "parent_msg_id": "066b34b9-81f1-4f59-8150-0a336fec32e6",
       "queued_time": "2025-02-14T16:07:49.7513202Z",
       "session_id": "7e382d05-b693-485c-b118-5f440ce87150",
       "session_start_time": null,
       "spark_pool": null,
       "state": "cancelled",
       "statement_id": -1,
       "statement_ids": null
      },
      "text/plain": [
       "StatementMeta(, 7e382d05-b693-485c-b118-5f440ce87150, -1, Cancelled, , Cancelled)"
      ]
     },
     "metadata": {},
     "output_type": "display_data"
    }
   ],
   "source": [
    "import matplotlib.pyplot as plt\n",
    "\n",
    "df['success_percent'] = 100 - df['unexpected_percent']\n",
    "df['expectation_column'] = df['expectation'] + \" - \" + df['dataset_column']\n",
    "df['unexpected_count'] = df[\"element_count\"] * (df['success_percent']/100)\n",
    "\n",
    "fig, ax = plt.subplots(figsize=(12, 8))\n",
    "\n",
    "for index, row in df.iterrows():\n",
    "    color = 'green' if row['success_status'] else 'red'\n",
    "    \n",
    "    ax.barh(row['expectation_column'], row['success_percent'], color=color, label='Success' if row['success_status'] else 'Failure')\n",
    "    ax.barh(row['expectation_column'], row['unexpected_percent'], left=row['success_percent'], color='green', label='Unexpected Percent')\n",
    "    ax.text(row['success_percent'] + row['unexpected_percent'] / 2, index, f'{int(row[\"unexpected_count\"])}', ha='center', va='center', color='black', fontsize=10)\n",
    "\n",
    "ax.set_xlabel('Percentage (%)', fontsize=14)\n",
    "ax.set_ylabel('Expectation - Column', fontsize=14)\n",
    "ax.set_title('Expectations and Columns', fontsize=16)\n",
    "\n",
    "#ax.legend(loc='lower center')\n",
    "\n",
    "plt.tight_layout()\n",
    "plt.show()"
   ]
  },
  {
   "cell_type": "code",
   "execution_count": null,
   "id": "195b4394-64fe-4f0f-b2ee-b5959ba774b5",
   "metadata": {
    "microsoft": {
     "language": "python",
     "language_group": "synapse_pyspark"
    }
   },
   "outputs": [],
   "source": [
    "gxDf = spark.createDataFrame(df)\n",
    "gxDf.write.mode(\"overwrite\").option(\"overwriteSchema\", \"True\").format(\"delta\").saveAsTable(\"gx_results\")"
   ]
  }
 ],
 "metadata": {
  "dependencies": {
   "environment": {
    "environmentId": "77e22816-0906-4ff6-a1c1-008000daff07",
    "workspaceId": "2f87c49f-0b02-4040-bb7c-6d2900b4acbb"
   },
   "lakehouse": {
    "default_lakehouse": "6b84466b-da21-43a2-8368-6a77845dfa79",
    "default_lakehouse_name": "LH_LAMBDA_POC",
    "default_lakehouse_workspace_id": "2f87c49f-0b02-4040-bb7c-6d2900b4acbb"
   }
  },
  "kernel_info": {
   "name": "synapse_pyspark"
  },
  "kernelspec": {
   "display_name": "Synapse PySpark",
   "language": "Python",
   "name": "synapse_pyspark"
  },
  "language_info": {
   "name": "python"
  },
  "microsoft": {
   "language": "python",
   "language_group": "synapse_pyspark",
   "ms_spell_check": {
    "ms_spell_check_language": "en"
   }
  },
  "nteract": {
   "version": "nteract-front-end@1.0.0"
  },
  "spark_compute": {
   "compute_id": "/trident/default",
   "session_options": {
    "conf": {
     "spark.synapse.nbs.session.timeout": "1200000"
    }
   }
  },
  "synapse_widget": {
   "state": {},
   "version": "0.1"
  },
  "widgets": {
   "application/vnd.jupyter.widget-state+json": {
    "state": {
     "034e4c581d4a4f42a6a2859cd35572ff": {
      "model_module": "@jupyter-widgets/controls",
      "model_module_version": "2.0.0",
      "model_name": "FloatProgressModel",
      "state": {
       "bar_style": "success",
       "layout": "IPY_MODEL_4b1a62f4973c4d43aae30450d08ae223",
       "max": 16,
       "style": "IPY_MODEL_14c07ec4fd97481098defbd3dae354bb",
       "value": 16
      }
     },
     "0804958fb8f647a791707eec372fbc4f": {
      "model_module": "@jupyter-widgets/controls",
      "model_module_version": "2.0.0",
      "model_name": "HTMLStyleModel",
      "state": {
       "description_width": "",
       "font_size": null,
       "text_color": null
      }
     },
     "14c07ec4fd97481098defbd3dae354bb": {
      "model_module": "@jupyter-widgets/controls",
      "model_module_version": "2.0.0",
      "model_name": "ProgressStyleModel",
      "state": {
       "description_width": ""
      }
     },
     "14dbea6a7df6406cad7513b2622a3beb": {
      "model_module": "@jupyter-widgets/controls",
      "model_module_version": "2.0.0",
      "model_name": "FloatProgressModel",
      "state": {
       "bar_style": "success",
       "layout": "IPY_MODEL_f3b04a73bafb408c81226f20fba86652",
       "max": 10,
       "style": "IPY_MODEL_5105cb12437543b281830d20d4b8a32e",
       "value": 10
      }
     },
     "236a60bf47404792a4dd3b3b6b9cb2a6": {
      "model_module": "@jupyter-widgets/base",
      "model_module_version": "2.0.0",
      "model_name": "LayoutModel",
      "state": {}
     },
     "286f1cbed4e84aba865e5d10e819adf4": {
      "model_module": "@jupyter-widgets/controls",
      "model_module_version": "2.0.0",
      "model_name": "HBoxModel",
      "state": {
       "children": [
        "IPY_MODEL_9f8a058df9344dc182c890ac857c3a53",
        "IPY_MODEL_034e4c581d4a4f42a6a2859cd35572ff",
        "IPY_MODEL_8711e06f41b64acc95cd46a7a0c6d579"
       ],
       "layout": "IPY_MODEL_236a60bf47404792a4dd3b3b6b9cb2a6"
      }
     },
     "359213bbc87c47958a8c3ff81e74e076": {
      "model_module": "@jupyter-widgets/controls",
      "model_module_version": "2.0.0",
      "model_name": "HTMLStyleModel",
      "state": {
       "description_width": "",
       "font_size": null,
       "text_color": null
      }
     },
     "36abdb40d42a4543bddca439ec3f1ac5": {
      "model_module": "@jupyter-widgets/base",
      "model_module_version": "2.0.0",
      "model_name": "LayoutModel",
      "state": {}
     },
     "386adcdc7c3c46d8b66b233eb0a9e2c2": {
      "model_module": "@jupyter-widgets/controls",
      "model_module_version": "2.0.0",
      "model_name": "HTMLStyleModel",
      "state": {
       "description_width": "",
       "font_size": null,
       "text_color": null
      }
     },
     "3aad126583bc465f9cbd9170edbae484": {
      "model_module": "@jupyter-widgets/controls",
      "model_module_version": "2.0.0",
      "model_name": "ProgressStyleModel",
      "state": {
       "description_width": ""
      }
     },
     "3b60f7fc518841219f23b4faead66c79": {
      "model_module": "@jupyter-widgets/controls",
      "model_module_version": "2.0.0",
      "model_name": "HTMLModel",
      "state": {
       "layout": "IPY_MODEL_f3bde85f8886427ab1239b77ae8356f6",
       "style": "IPY_MODEL_73b944a2f5e74b498f5a54c4bd2464dc",
       "value": "Calculating Metrics: 100%"
      }
     },
     "3c3a637947fa494284a577e3189c9be4": {
      "model_module": "@jupyter-widgets/base",
      "model_module_version": "2.0.0",
      "model_name": "LayoutModel",
      "state": {}
     },
     "3cdb2e9e05794b90a51a92ebae769f15": {
      "model_module": "@jupyter-widgets/controls",
      "model_module_version": "2.0.0",
      "model_name": "HTMLStyleModel",
      "state": {
       "description_width": "",
       "font_size": null,
       "text_color": null
      }
     },
     "3dbee2d14c6940f084f51135942706f5": {
      "model_module": "@jupyter-widgets/controls",
      "model_module_version": "2.0.0",
      "model_name": "FloatProgressModel",
      "state": {
       "bar_style": "success",
       "layout": "IPY_MODEL_812ad0dba9b84cda841975efd5d1e7ae",
       "max": 33,
       "style": "IPY_MODEL_3aad126583bc465f9cbd9170edbae484",
       "value": 33
      }
     },
     "3e2d494cb5814c70946cf9c830a13319": {
      "model_module": "@jupyter-widgets/base",
      "model_module_version": "2.0.0",
      "model_name": "LayoutModel",
      "state": {}
     },
     "42db1232a25f4523a81754ddf183f220": {
      "model_module": "@jupyter-widgets/controls",
      "model_module_version": "2.0.0",
      "model_name": "HTMLModel",
      "state": {
       "layout": "IPY_MODEL_989c2681b5cc49dd988f609ae7220f42",
       "style": "IPY_MODEL_5532af2f19ac4f45a166ae6afaa40b15",
       "value": " 33/33 [00:06&lt;00:00,  7.66it/s]"
      }
     },
     "4431802c93c947a7a72f1e4e3dd27cea": {
      "model_module": "@jupyter-widgets/base",
      "model_module_version": "2.0.0",
      "model_name": "LayoutModel",
      "state": {}
     },
     "47110bd838d047b48013029f808f27fd": {
      "model_module": "@jupyter-widgets/base",
      "model_module_version": "2.0.0",
      "model_name": "LayoutModel",
      "state": {}
     },
     "4b1a62f4973c4d43aae30450d08ae223": {
      "model_module": "@jupyter-widgets/base",
      "model_module_version": "2.0.0",
      "model_name": "LayoutModel",
      "state": {}
     },
     "5105cb12437543b281830d20d4b8a32e": {
      "model_module": "@jupyter-widgets/controls",
      "model_module_version": "2.0.0",
      "model_name": "ProgressStyleModel",
      "state": {
       "description_width": ""
      }
     },
     "51928be3fbee4da699d471727bd9549b": {
      "model_module": "@jupyter-widgets/controls",
      "model_module_version": "2.0.0",
      "model_name": "ProgressStyleModel",
      "state": {
       "description_width": ""
      }
     },
     "5532af2f19ac4f45a166ae6afaa40b15": {
      "model_module": "@jupyter-widgets/controls",
      "model_module_version": "2.0.0",
      "model_name": "HTMLStyleModel",
      "state": {
       "description_width": "",
       "font_size": null,
       "text_color": null
      }
     },
     "564b6ee26f394d95a1fae50cc399555d": {
      "model_module": "@jupyter-widgets/controls",
      "model_module_version": "2.0.0",
      "model_name": "HTMLStyleModel",
      "state": {
       "description_width": "",
       "font_size": null,
       "text_color": null
      }
     },
     "5f48b43fbab947e7b97af65437a622bb": {
      "model_module": "@jupyter-widgets/base",
      "model_module_version": "2.0.0",
      "model_name": "LayoutModel",
      "state": {}
     },
     "6557b776086f4675a8bc0853b5cd0c15": {
      "model_module": "@jupyter-widgets/controls",
      "model_module_version": "2.0.0",
      "model_name": "HTMLStyleModel",
      "state": {
       "description_width": "",
       "font_size": null,
       "text_color": null
      }
     },
     "66931575131f4ed7a683310ea818fd9e": {
      "model_module": "@jupyter-widgets/controls",
      "model_module_version": "2.0.0",
      "model_name": "HBoxModel",
      "state": {
       "children": [
        "IPY_MODEL_bd87cfec74344253815b6bbcf5b5ae3a",
        "IPY_MODEL_b007a4d5cc044100bf6273bae5db9810",
        "IPY_MODEL_42db1232a25f4523a81754ddf183f220"
       ],
       "layout": "IPY_MODEL_4431802c93c947a7a72f1e4e3dd27cea"
      }
     },
     "6b2ef78f71b44f4abf0e938285d26b2c": {
      "model_module": "@jupyter-widgets/base",
      "model_module_version": "2.0.0",
      "model_name": "LayoutModel",
      "state": {}
     },
     "6c44260695514fa4a3cd73da769af52d": {
      "model_module": "@jupyter-widgets/controls",
      "model_module_version": "2.0.0",
      "model_name": "HTMLModel",
      "state": {
       "layout": "IPY_MODEL_d799019a4a2c4d0d8e8bd76d74583336",
       "style": "IPY_MODEL_7484e5f8cd694a5786ffd83ad315c9c3",
       "value": " 33/33 [00:07&lt;00:00,  6.87it/s]"
      }
     },
     "73b944a2f5e74b498f5a54c4bd2464dc": {
      "model_module": "@jupyter-widgets/controls",
      "model_module_version": "2.0.0",
      "model_name": "HTMLStyleModel",
      "state": {
       "description_width": "",
       "font_size": null,
       "text_color": null
      }
     },
     "7484e5f8cd694a5786ffd83ad315c9c3": {
      "model_module": "@jupyter-widgets/controls",
      "model_module_version": "2.0.0",
      "model_name": "HTMLStyleModel",
      "state": {
       "description_width": "",
       "font_size": null,
       "text_color": null
      }
     },
     "7bda0a50127c4aac88b221a570245f62": {
      "model_module": "@jupyter-widgets/controls",
      "model_module_version": "2.0.0",
      "model_name": "HTMLStyleModel",
      "state": {
       "description_width": "",
       "font_size": null,
       "text_color": null
      }
     },
     "812ad0dba9b84cda841975efd5d1e7ae": {
      "model_module": "@jupyter-widgets/base",
      "model_module_version": "2.0.0",
      "model_name": "LayoutModel",
      "state": {}
     },
     "82192ef045e44343bafb8dd0c3e99170": {
      "model_module": "@jupyter-widgets/base",
      "model_module_version": "2.0.0",
      "model_name": "LayoutModel",
      "state": {}
     },
     "8711e06f41b64acc95cd46a7a0c6d579": {
      "model_module": "@jupyter-widgets/controls",
      "model_module_version": "2.0.0",
      "model_name": "HTMLModel",
      "state": {
       "layout": "IPY_MODEL_36abdb40d42a4543bddca439ec3f1ac5",
       "style": "IPY_MODEL_c1e4b380bdd54be8b65da37c39a08c62",
       "value": " 16/16 [00:00&lt;00:00, 65.97it/s]"
      }
     },
     "8ca8cd6aa7c24df5ae3f7d76001cd1f0": {
      "model_module": "@jupyter-widgets/controls",
      "model_module_version": "2.0.0",
      "model_name": "ProgressStyleModel",
      "state": {
       "description_width": ""
      }
     },
     "8caa00681c4549b0a7df44895208dddf": {
      "model_module": "@jupyter-widgets/base",
      "model_module_version": "2.0.0",
      "model_name": "LayoutModel",
      "state": {}
     },
     "96ccff56e6ff408fa7fb49975e2f5153": {
      "model_module": "@jupyter-widgets/controls",
      "model_module_version": "2.0.0",
      "model_name": "HTMLModel",
      "state": {
       "layout": "IPY_MODEL_e0e832e322cc43d094539acba6304bb6",
       "style": "IPY_MODEL_7bda0a50127c4aac88b221a570245f62",
       "value": "Calculating Metrics: 100%"
      }
     },
     "989c2681b5cc49dd988f609ae7220f42": {
      "model_module": "@jupyter-widgets/base",
      "model_module_version": "2.0.0",
      "model_name": "LayoutModel",
      "state": {}
     },
     "99c523eeed4a4a21a312e003388f599b": {
      "model_module": "@jupyter-widgets/base",
      "model_module_version": "2.0.0",
      "model_name": "LayoutModel",
      "state": {}
     },
     "9d1af5d285434846bfe998035334922a": {
      "model_module": "@jupyter-widgets/controls",
      "model_module_version": "2.0.0",
      "model_name": "HBoxModel",
      "state": {
       "children": [
        "IPY_MODEL_e225428a46dd441ba9f7fd8c9c44b157",
        "IPY_MODEL_3dbee2d14c6940f084f51135942706f5",
        "IPY_MODEL_6c44260695514fa4a3cd73da769af52d"
       ],
       "layout": "IPY_MODEL_e3ca7965fb304ef080382996996848e9"
      }
     },
     "9f8a058df9344dc182c890ac857c3a53": {
      "model_module": "@jupyter-widgets/controls",
      "model_module_version": "2.0.0",
      "model_name": "HTMLModel",
      "state": {
       "layout": "IPY_MODEL_bdd983fc565c452dbf4ccac65edaa99b",
       "style": "IPY_MODEL_0804958fb8f647a791707eec372fbc4f",
       "value": "Calculating Metrics: 100%"
      }
     },
     "a0efb4f8201c4e48956ac201cf5b1c42": {
      "model_module": "@jupyter-widgets/controls",
      "model_module_version": "2.0.0",
      "model_name": "HTMLModel",
      "state": {
       "layout": "IPY_MODEL_82192ef045e44343bafb8dd0c3e99170",
       "style": "IPY_MODEL_e969a70e20f24f2e8e16c7d5a796bd9a",
       "value": " 16/16 [00:00&lt;00:00, 83.73it/s]"
      }
     },
     "a250099b3b254e37aa2a7055baa37b5c": {
      "model_module": "@jupyter-widgets/controls",
      "model_module_version": "2.0.0",
      "model_name": "HTMLModel",
      "state": {
       "layout": "IPY_MODEL_3e2d494cb5814c70946cf9c830a13319",
       "style": "IPY_MODEL_386adcdc7c3c46d8b66b233eb0a9e2c2",
       "value": " 10/10 [00:01&lt;00:00,  9.96it/s]"
      }
     },
     "a53bf772bdb842c09aeecd34268690e0": {
      "model_module": "@jupyter-widgets/controls",
      "model_module_version": "2.0.0",
      "model_name": "HBoxModel",
      "state": {
       "children": [
        "IPY_MODEL_b0191711e4534a99b329d10e3ccabfbf",
        "IPY_MODEL_c65a54671e574387b617370fee0f24e2",
        "IPY_MODEL_a0efb4f8201c4e48956ac201cf5b1c42"
       ],
       "layout": "IPY_MODEL_b70df0b90f29434fa21db70bd51fba62"
      }
     },
     "a6e1c30ad1844342815b6ee19b1c336d": {
      "model_module": "@jupyter-widgets/controls",
      "model_module_version": "2.0.0",
      "model_name": "HTMLModel",
      "state": {
       "layout": "IPY_MODEL_6b2ef78f71b44f4abf0e938285d26b2c",
       "style": "IPY_MODEL_3cdb2e9e05794b90a51a92ebae769f15",
       "value": " 10/10 [00:00&lt;00:00, 12.61it/s]"
      }
     },
     "ad33cfc20e674c56847154320c8d1a77": {
      "model_module": "@jupyter-widgets/controls",
      "model_module_version": "2.0.0",
      "model_name": "HBoxModel",
      "state": {
       "children": [
        "IPY_MODEL_3b60f7fc518841219f23b4faead66c79",
        "IPY_MODEL_14dbea6a7df6406cad7513b2622a3beb",
        "IPY_MODEL_a6e1c30ad1844342815b6ee19b1c336d"
       ],
       "layout": "IPY_MODEL_99c523eeed4a4a21a312e003388f599b"
      }
     },
     "b007a4d5cc044100bf6273bae5db9810": {
      "model_module": "@jupyter-widgets/controls",
      "model_module_version": "2.0.0",
      "model_name": "FloatProgressModel",
      "state": {
       "bar_style": "success",
       "layout": "IPY_MODEL_47110bd838d047b48013029f808f27fd",
       "max": 33,
       "style": "IPY_MODEL_51928be3fbee4da699d471727bd9549b",
       "value": 33
      }
     },
     "b0191711e4534a99b329d10e3ccabfbf": {
      "model_module": "@jupyter-widgets/controls",
      "model_module_version": "2.0.0",
      "model_name": "HTMLModel",
      "state": {
       "layout": "IPY_MODEL_c266d3bf4e1d4bbc9e5acae92219cbf9",
       "style": "IPY_MODEL_359213bbc87c47958a8c3ff81e74e076",
       "value": "Calculating Metrics: 100%"
      }
     },
     "b70df0b90f29434fa21db70bd51fba62": {
      "model_module": "@jupyter-widgets/base",
      "model_module_version": "2.0.0",
      "model_name": "LayoutModel",
      "state": {}
     },
     "bd87cfec74344253815b6bbcf5b5ae3a": {
      "model_module": "@jupyter-widgets/controls",
      "model_module_version": "2.0.0",
      "model_name": "HTMLModel",
      "state": {
       "layout": "IPY_MODEL_c2fd772e2ea547959ce2f6afe4ef5d0f",
       "style": "IPY_MODEL_6557b776086f4675a8bc0853b5cd0c15",
       "value": "Calculating Metrics: 100%"
      }
     },
     "bdd983fc565c452dbf4ccac65edaa99b": {
      "model_module": "@jupyter-widgets/base",
      "model_module_version": "2.0.0",
      "model_name": "LayoutModel",
      "state": {}
     },
     "c1e4b380bdd54be8b65da37c39a08c62": {
      "model_module": "@jupyter-widgets/controls",
      "model_module_version": "2.0.0",
      "model_name": "HTMLStyleModel",
      "state": {
       "description_width": "",
       "font_size": null,
       "text_color": null
      }
     },
     "c266d3bf4e1d4bbc9e5acae92219cbf9": {
      "model_module": "@jupyter-widgets/base",
      "model_module_version": "2.0.0",
      "model_name": "LayoutModel",
      "state": {}
     },
     "c2fd772e2ea547959ce2f6afe4ef5d0f": {
      "model_module": "@jupyter-widgets/base",
      "model_module_version": "2.0.0",
      "model_name": "LayoutModel",
      "state": {}
     },
     "c65a54671e574387b617370fee0f24e2": {
      "model_module": "@jupyter-widgets/controls",
      "model_module_version": "2.0.0",
      "model_name": "FloatProgressModel",
      "state": {
       "bar_style": "success",
       "layout": "IPY_MODEL_8caa00681c4549b0a7df44895208dddf",
       "max": 16,
       "style": "IPY_MODEL_8ca8cd6aa7c24df5ae3f7d76001cd1f0",
       "value": 16
      }
     },
     "cc3b2d5930104b91b41ecbddb96606b7": {
      "model_module": "@jupyter-widgets/controls",
      "model_module_version": "2.0.0",
      "model_name": "ProgressStyleModel",
      "state": {
       "description_width": ""
      }
     },
     "cd5236565939486a90118ccff12e7dd7": {
      "model_module": "@jupyter-widgets/base",
      "model_module_version": "2.0.0",
      "model_name": "LayoutModel",
      "state": {}
     },
     "d799019a4a2c4d0d8e8bd76d74583336": {
      "model_module": "@jupyter-widgets/base",
      "model_module_version": "2.0.0",
      "model_name": "LayoutModel",
      "state": {}
     },
     "dfdd9c82e869474fa5a9a53e2e560808": {
      "model_module": "@jupyter-widgets/controls",
      "model_module_version": "2.0.0",
      "model_name": "HBoxModel",
      "state": {
       "children": [
        "IPY_MODEL_96ccff56e6ff408fa7fb49975e2f5153",
        "IPY_MODEL_f75d8672b0534077a55c418075e64e72",
        "IPY_MODEL_a250099b3b254e37aa2a7055baa37b5c"
       ],
       "layout": "IPY_MODEL_cd5236565939486a90118ccff12e7dd7"
      }
     },
     "e0e832e322cc43d094539acba6304bb6": {
      "model_module": "@jupyter-widgets/base",
      "model_module_version": "2.0.0",
      "model_name": "LayoutModel",
      "state": {}
     },
     "e225428a46dd441ba9f7fd8c9c44b157": {
      "model_module": "@jupyter-widgets/controls",
      "model_module_version": "2.0.0",
      "model_name": "HTMLModel",
      "state": {
       "layout": "IPY_MODEL_5f48b43fbab947e7b97af65437a622bb",
       "style": "IPY_MODEL_564b6ee26f394d95a1fae50cc399555d",
       "value": "Calculating Metrics: 100%"
      }
     },
     "e3ca7965fb304ef080382996996848e9": {
      "model_module": "@jupyter-widgets/base",
      "model_module_version": "2.0.0",
      "model_name": "LayoutModel",
      "state": {}
     },
     "e969a70e20f24f2e8e16c7d5a796bd9a": {
      "model_module": "@jupyter-widgets/controls",
      "model_module_version": "2.0.0",
      "model_name": "HTMLStyleModel",
      "state": {
       "description_width": "",
       "font_size": null,
       "text_color": null
      }
     },
     "f3b04a73bafb408c81226f20fba86652": {
      "model_module": "@jupyter-widgets/base",
      "model_module_version": "2.0.0",
      "model_name": "LayoutModel",
      "state": {}
     },
     "f3bde85f8886427ab1239b77ae8356f6": {
      "model_module": "@jupyter-widgets/base",
      "model_module_version": "2.0.0",
      "model_name": "LayoutModel",
      "state": {}
     },
     "f75d8672b0534077a55c418075e64e72": {
      "model_module": "@jupyter-widgets/controls",
      "model_module_version": "2.0.0",
      "model_name": "FloatProgressModel",
      "state": {
       "bar_style": "success",
       "layout": "IPY_MODEL_3c3a637947fa494284a577e3189c9be4",
       "max": 10,
       "style": "IPY_MODEL_cc3b2d5930104b91b41ecbddb96606b7",
       "value": 10
      }
     }
    },
    "version_major": 2,
    "version_minor": 0
   }
  }
 },
 "nbformat": 4,
 "nbformat_minor": 5
}
